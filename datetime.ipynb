{
 "cells": [
  {
   "cell_type": "code",
   "execution_count": 15,
   "metadata": {},
   "outputs": [],
   "source": [
    "from datetime import date,datetime,time,timedelta  #date são para datas e datetime, data e hora\n",
    "\n"
   ]
  },
  {
   "cell_type": "code",
   "execution_count": 4,
   "metadata": {},
   "outputs": [
    {
     "name": "stdout",
     "output_type": "stream",
     "text": [
      "2023-07-10\n",
      "2024-08-30\n"
     ]
    }
   ],
   "source": [
    "data = date(2023,7,10)\n",
    "print(data)\n",
    "print(date.today())"
   ]
  },
  {
   "cell_type": "code",
   "execution_count": 8,
   "metadata": {},
   "outputs": [
    {
     "name": "stdout",
     "output_type": "stream",
     "text": [
      "2023-07-10 10:30:20\n",
      "2024-08-30 15:39:00.572242\n"
     ]
    }
   ],
   "source": [
    "data_hora = datetime(2023,7,10,10,30,20)\n",
    "print(data_hora)\n",
    "print(datetime.today())"
   ]
  },
  {
   "cell_type": "code",
   "execution_count": 12,
   "metadata": {},
   "outputs": [
    {
     "name": "stdout",
     "output_type": "stream",
     "text": [
      "10:20:00\n"
     ]
    }
   ],
   "source": [
    "hora = time(10,20,0)\n",
    "print(hora)\n"
   ]
  },
  {
   "cell_type": "markdown",
   "metadata": {},
   "source": [
    "timedelta"
   ]
  },
  {
   "cell_type": "code",
   "execution_count": 19,
   "metadata": {},
   "outputs": [
    {
     "name": "stdout",
     "output_type": "stream",
     "text": [
      "O chegou as 2024-08-30 16:05:04.958321 e ficará pronto às 2024-08-30 17:05:04.958321\n"
     ]
    }
   ],
   "source": [
    "tipo_carro ='G'\n",
    "tempo_carro_pequeno = 30\n",
    "tempo_carro_medio = 45\n",
    "tempo_carro_grande = 60\n",
    "data_atual = datetime.now()\n",
    "\n",
    "if tipo_carro =='P':\n",
    "    data_estimada = data_atual + timedelta(minutes=tempo_carro_pequeno)\n",
    "    print(f'O chegou as {data_atual} e ficará pronto às {data_estimada}')\n",
    "elif tipo_carro =='M':\n",
    "    data_estimada = data_atual + timedelta(minutes=tempo_carro_medio)\n",
    "    print(f'O chegou as {data_atual} e ficará pronto às {data_estimada}')\n",
    "else:\n",
    "    data_estimada = data_atual + timedelta(minutes=tempo_carro_grande)\n",
    "    print(f'O chegou as {data_atual} e ficará pronto às {data_estimada}')"
   ]
  },
  {
   "cell_type": "markdown",
   "metadata": {},
   "source": [
    "formatando e convertendo datas com strftime e strptime"
   ]
  },
  {
   "cell_type": "code",
   "execution_count": 25,
   "metadata": {},
   "outputs": [
    {
     "name": "stdout",
     "output_type": "stream",
     "text": [
      "30/08/24 Fri\n",
      "2023-10-20 10:20:00\n"
     ]
    }
   ],
   "source": [
    "data_hora_atual = datetime.now()\n",
    "data_hora_str = '2023-10-20 10:20'\n",
    "mascara_ptbr ='%d/%m/%y %a'\n",
    "mascara_en = '%Y-%m-%d %H:%M'\n",
    "\n",
    "print(data_hora_atual.strftime(mascara_ptbr))\n",
    "\n",
    "print(datetime.strptime(data_hora_str, mascara_en))"
   ]
  },
  {
   "cell_type": "code",
   "execution_count": null,
   "metadata": {},
   "outputs": [],
   "source": []
  }
 ],
 "metadata": {
  "kernelspec": {
   "display_name": "Python 3",
   "language": "python",
   "name": "python3"
  },
  "language_info": {
   "codemirror_mode": {
    "name": "ipython",
    "version": 3
   },
   "file_extension": ".py",
   "mimetype": "text/x-python",
   "name": "python",
   "nbconvert_exporter": "python",
   "pygments_lexer": "ipython3",
   "version": "3.12.0"
  }
 },
 "nbformat": 4,
 "nbformat_minor": 2
}
