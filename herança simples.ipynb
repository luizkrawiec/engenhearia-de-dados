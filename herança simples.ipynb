{
 "cells": [
  {
   "cell_type": "markdown",
   "metadata": {},
   "source": [
    "Herança"
   ]
  },
  {
   "cell_type": "code",
   "execution_count": 15,
   "metadata": {},
   "outputs": [],
   "source": [
    "class Veiculo:\n",
    "    def __init__(self, cor, placa, numero_rodas):\n",
    "        self.cor = cor\n",
    "        self.placa = placa\n",
    "        self.numero_rodas = numero_rodas\n",
    "\n",
    "    def ligar_motor(self):\n",
    "        print(\"Ligando o motor\")\n",
    "\n",
    "    def __str__(self):\n",
    "        return f\"{self.__class__.__name__}: {', '.join([f'{chave}={valor}' for chave, valor in self.__dict__.items()])}\"\n",
    "\n",
    "\n",
    "class Motocicleta(Veiculo):\n",
    "    pass\n",
    "\n",
    "\n",
    "class Carro(Veiculo):\n",
    "    pass\n",
    "\n",
    "\n",
    "class Caminhao(Veiculo):\n",
    "    def __init__(self, cor, placa, numero_rodas, carregado):\n",
    "        super().__init__(cor, placa, numero_rodas)\n",
    "        self.carregado = carregado\n",
    "\n",
    "    def esta_carregado(self):\n",
    "        print(f\"{'Sim' if self.carregado else 'Não'} estou carregado\")\n",
    "\n",
    "\n",
    "moto = Motocicleta(\"preta\", \"abc-1234\", 2)\n",
    "carro = Carro(\"branco\", \"xde-0098\", 4)\n",
    "caminhao = Caminhao(\"roxo\", \"gfd-8712\", 8, True)\n",
    "\n",
    "    "
   ]
  },
  {
   "cell_type": "code",
   "execution_count": 5,
   "metadata": {},
   "outputs": [
    {
     "name": "stdout",
     "output_type": "stream",
     "text": [
      "<__main__.Motocicleta object at 0x000001ED76CD6840>\n",
      "ligando o motor\n"
     ]
    }
   ],
   "source": [
    "moto = Motocicleta('preta','ghj - 4578', 2)\n",
    "print(moto)\n",
    "moto.ligar_motor()"
   ]
  },
  {
   "cell_type": "code",
   "execution_count": 8,
   "metadata": {},
   "outputs": [
    {
     "name": "stdout",
     "output_type": "stream",
     "text": [
      "ligando o motor\n"
     ]
    }
   ],
   "source": [
    "carro = Carro('branco', 'kfj - 6532', 4)\n",
    "carro.ligar_motor()"
   ]
  },
  {
   "cell_type": "code",
   "execution_count": 11,
   "metadata": {},
   "outputs": [
    {
     "name": "stdout",
     "output_type": "stream",
     "text": [
      "ligando o motor\n",
      "Não estou carregado\n"
     ]
    }
   ],
   "source": [
    "caminhao = Caminhao('roxo','hfg-5445878', 8)\n",
    "caminhao.ligar_motor()\n",
    "caminhao.esta_carregado()"
   ]
  },
  {
   "cell_type": "code",
   "execution_count": 16,
   "metadata": {},
   "outputs": [
    {
     "name": "stdout",
     "output_type": "stream",
     "text": [
      "Motocicleta: cor=preta, placa=abc-1234, numero_rodas=2\n",
      "Carro: cor=branco, placa=xde-0098, numero_rodas=4\n",
      "Caminhao: cor=roxo, placa=gfd-8712, numero_rodas=8, carregado=True\n"
     ]
    }
   ],
   "source": [
    "print(moto)\n",
    "print(carro)\n",
    "print(caminhao)"
   ]
  }
 ],
 "metadata": {
  "kernelspec": {
   "display_name": "Python 3",
   "language": "python",
   "name": "python3"
  },
  "language_info": {
   "codemirror_mode": {
    "name": "ipython",
    "version": 3
   },
   "file_extension": ".py",
   "mimetype": "text/x-python",
   "name": "python",
   "nbconvert_exporter": "python",
   "pygments_lexer": "ipython3",
   "version": "3.12.0"
  }
 },
 "nbformat": 4,
 "nbformat_minor": 2
}
