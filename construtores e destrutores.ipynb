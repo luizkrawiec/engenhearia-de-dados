{
 "cells": [
  {
   "cell_type": "markdown",
   "metadata": {},
   "source": [
    "Construtores e destrutores"
   ]
  },
  {
   "cell_type": "markdown",
   "metadata": {},
   "source": [
    "Init"
   ]
  },
  {
   "cell_type": "code",
   "execution_count": null,
   "metadata": {},
   "outputs": [],
   "source": [
    "class Cachorro:\n",
    "    def __init__(self, nome, cor, acordado = True) -> None:\n",
    "        self.nome = nome\n",
    "        self.cor = cor\n",
    "        self.acordado = acordado"
   ]
  },
  {
   "cell_type": "markdown",
   "metadata": {},
   "source": [
    "__Del__"
   ]
  },
  {
   "cell_type": "code",
   "execution_count": null,
   "metadata": {},
   "outputs": [],
   "source": [
    "class Cachorro:\n",
    "    def __del__ (self):\n",
    "        print( 'Destruindo a instância')\n",
    "c = Cachorro()\n",
    "\n",
    "del c"
   ]
  },
  {
   "cell_type": "markdown",
   "metadata": {},
   "source": [
    "Exemplo"
   ]
  },
  {
   "cell_type": "code",
   "execution_count": 4,
   "metadata": {},
   "outputs": [
    {
     "name": "stdout",
     "output_type": "stream",
     "text": [
      "Inicnializando a classe...\n",
      "Removendo a instãncia da classe\n",
      "auaua\n",
      "Ola Mundo\n",
      "Removendo a instãncia da classe\n",
      "Ola Mundo\n",
      "Ola Mundo\n",
      "Ola Mundo\n"
     ]
    }
   ],
   "source": [
    "class Cachorro:\n",
    "    def __init__(self, nome, cor, acordado = True):\n",
    "        print('Inicnializando a classe...')\n",
    "        self.nome = nome\n",
    "        self.cor = cor\n",
    "        self.acordado = acordado\n",
    "\n",
    "    def __del__(self):\n",
    "        print( 'Removendo a instãncia da classe')\n",
    "\n",
    "    def falar(self):\n",
    "        print('auaua')\n",
    "\n",
    "def criar_cachorro():\n",
    "    c = Cachorro(\"Zeus\", \"Branco e preto\", False)\n",
    "    print(c.nome)\n",
    "\n",
    "c = Cachorro('Chappie','Amarelo')\n",
    "c.falar()\n",
    "\n",
    "print('Ola Mundo')\n",
    "\n",
    "del c\n",
    "\n",
    "print('Ola Mundo')\n",
    "print('Ola Mundo')\n",
    "print('Ola Mundo')\n"
   ]
  }
 ],
 "metadata": {
  "kernelspec": {
   "display_name": "Python 3",
   "language": "python",
   "name": "python3"
  },
  "language_info": {
   "codemirror_mode": {
    "name": "ipython",
    "version": 3
   },
   "file_extension": ".py",
   "mimetype": "text/x-python",
   "name": "python",
   "nbconvert_exporter": "python",
   "pygments_lexer": "ipython3",
   "version": "3.12.0"
  }
 },
 "nbformat": 4,
 "nbformat_minor": 2
}
