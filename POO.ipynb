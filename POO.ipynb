{
 "cells": [
  {
   "cell_type": "markdown",
   "metadata": {},
   "source": [
    "Nosso primeiro progroma POO\n",
    "\n",
    "João tem uma bicicletaria e gostaria de registrar as vendas de suas bicicletas. Crie um programa onde João informe\n",
    "cor, modelo e valor da bicicleta vendida. Uma bicicleta pode: buzinar, parar e correr. Adicione esses comportamentos."
   ]
  },
  {
   "cell_type": "code",
   "execution_count": 24,
   "metadata": {},
   "outputs": [
    {
     "name": "stdout",
     "output_type": "stream",
     "text": [
      "Plim plim...\n",
      "Vrummmmmm......\n",
      "Parando bicicleta...\n",
      "a bicleta é da cor Vermelha, e é do modelo caloi, ano 2022 e custa R$600 a vista.\n"
     ]
    }
   ],
   "source": [
    "class Bicicleta:\n",
    "    def __init__(self, cor, modelo, ano, valor) -> None:\n",
    "        self.cor = cor\n",
    "        self.modelo = modelo\n",
    "        self.ano = ano\n",
    "        self.valor = valor\n",
    "\n",
    "    def buzinar(self):\n",
    "        print('Plim plim...')\n",
    "\n",
    "    def parar(self):\n",
    "        print('Parando bicicleta...')\n",
    "\n",
    "    def correr(self):\n",
    "        print('Vrummmmmm......')\n",
    "\n",
    "b1 = Bicicleta('Vermelha', 'caloi', 2022, 600)\n",
    "b1.buzinar()\n",
    "b1.correr()\n",
    "b1.parar()\n",
    "\n",
    "print(f'a bicleta é da cor {b1.cor}, e é do modelo {b1.modelo}, ano {b1.ano} e custa R${b1.valor} a vista.')\n",
    "\n",
    "\n",
    "    "
   ]
  }
 ],
 "metadata": {
  "kernelspec": {
   "display_name": "Python 3",
   "language": "python",
   "name": "python3"
  },
  "language_info": {
   "codemirror_mode": {
    "name": "ipython",
    "version": 3
   },
   "file_extension": ".py",
   "mimetype": "text/x-python",
   "name": "python",
   "nbconvert_exporter": "python",
   "pygments_lexer": "ipython3",
   "version": "3.12.0"
  }
 },
 "nbformat": 4,
 "nbformat_minor": 2
}
