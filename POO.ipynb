{
 "cells": [
  {
   "cell_type": "markdown",
   "metadata": {},
   "source": [
    "Nosso primeiro progroma POO\n",
    "\n",
    "João tem uma bicicletaria e gostaria de registrar as vendas de suas bicicletas. Crie um programa onde João informe\n",
    "cor, modelo e valor da bicicleta vendida. Uma bicicleta pode: buzinar, parar e correr. Adicione esses comportamentos."
   ]
  },
  {
   "cell_type": "code",
   "execution_count": 24,
   "metadata": {},
   "outputs": [
    {
     "name": "stdout",
     "output_type": "stream",
     "text": [
      "Plim plim...\n",
      "Vrummmmmm......\n",
      "Parando bicicleta...\n",
      "a bicleta é da cor Vermelha, e é do modelo caloi, ano 2022 e custa R$600 a vista.\n"
     ]
    }
   ],
   "source": [
    "class Bicicleta:\n",
    "    def __init__(self, cor, modelo, ano, valor) -> None:\n",
    "        self.cor = cor\n",
    "        self.modelo = modelo\n",
    "        self.ano = ano\n",
    "        self.valor = valor\n",
    "\n",
    "    def buzinar(self):\n",
    "        print('Plim plim...')\n",
    "\n",
    "    def parar(self):\n",
    "        print('Parando bicicleta...')\n",
    "\n",
    "    def correr(self):\n",
    "        print('Vrummmmmm......')\n",
    "\n",
    "b1 = Bicicleta('Vermelha', 'caloi', 2022, 600)\n",
    "b1.buzinar()\n",
    "b1.correr()\n",
    "b1.parar()\n",
    "\n",
    "print(f'a bicleta é da cor {b1.cor}, e é do modelo {b1.modelo}, ano {b1.ano} e custa R${b1.valor} a vista.')\n",
    "\n",
    "\n",
    "    "
   ]
  },
  {
   "cell_type": "markdown",
   "metadata": {},
   "source": [
    "Primeiro programa com POO"
   ]
  },
  {
   "cell_type": "code",
   "execution_count": 43,
   "metadata": {},
   "outputs": [
    {
     "name": "stdout",
     "output_type": "stream",
     "text": [
      "<__main__.Bicicleta object at 0x000001B6B95A9730>\n"
     ]
    }
   ],
   "source": [
    "class Bicicleta:\n",
    "    def __init__(self, cor , modelo, ano, valor):\n",
    "        self.cor = cor \n",
    "        self.modelo = modelo \n",
    "        self.ano = ano \n",
    "        self.valor = valor\n",
    "    \n",
    "    def buzinar(self):\n",
    "        print('Plim plim...')\n",
    "\n",
    "    def parar(self):\n",
    "        print('Parando a Bicicleta')\n",
    "        print('Bicicleta parada!')\n",
    "\n",
    "    def correr(self):\n",
    "        print('VRummmmmmmmmmm....')\n",
    "\n",
    "    def get_cor(self):\n",
    "        return self.cor\n",
    "    \n",
    "   # def __str__(self):\n",
    "        #return f' Bicicleta: cor = {self.cor}, modelo = {self.modelo}, ano = {self.ano}, valor = {self.valor}'\n",
    "\n",
    "    def __str__ (self):\n",
    "        return f'{self.__class__.__name__} : {', '.join([ f'{chave} = {valor}' for chave, valor in self.__dict__.items()])}'\n",
    "    \n",
    "print(b2)"
   ]
  },
  {
   "cell_type": "code",
   "execution_count": 15,
   "metadata": {},
   "outputs": [
    {
     "data": {
      "text/plain": [
       "\"b1 = Bicicleta('Vermelha', 'Caloi', 2022,600)\\nb1.buzinar()\\nb1.parar()\\nb1.correr()\\nprint(b1.cor, b1.modelo, b1.ano,b1.valor)\""
      ]
     },
     "execution_count": 15,
     "metadata": {},
     "output_type": "execute_result"
    }
   ],
   "source": [
    "b1 = Bicicleta('Vermelha', 'Caloi', 2022,600)\n",
    "b1.buzinar()\n",
    "b1.parar()\n",
    "b1.correr()\n",
    "print(b1.cor, b1.modelo, b1.ano,b1.valor)"
   ]
  },
  {
   "cell_type": "code",
   "execution_count": 32,
   "metadata": {},
   "outputs": [
    {
     "name": "stdout",
     "output_type": "stream",
     "text": [
      "Plim plim...\n",
      "Plim plim...\n",
      "Verde\n"
     ]
    }
   ],
   "source": [
    "b2 = Bicicleta('Verde', 'monark', 2000, 189)\n",
    "Bicicleta.buzinar(b2)\n",
    "b2.buzinar()\n",
    "print(b2.get_cor())\n",
    "print(b2)"
   ]
  }
 ],
 "metadata": {
  "kernelspec": {
   "display_name": "Python 3",
   "language": "python",
   "name": "python3"
  },
  "language_info": {
   "codemirror_mode": {
    "name": "ipython",
    "version": 3
   },
   "file_extension": ".py",
   "mimetype": "text/x-python",
   "name": "python",
   "nbconvert_exporter": "python",
   "pygments_lexer": "ipython3",
   "version": "3.12.0"
  }
 },
 "nbformat": 4,
 "nbformat_minor": 2
}
