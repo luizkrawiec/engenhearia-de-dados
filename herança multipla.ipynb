{
 "cells": [
  {
   "cell_type": "markdown",
   "metadata": {},
   "source": [
    "Herança multipla"
   ]
  },
  {
   "cell_type": "code",
   "execution_count": 20,
   "metadata": {},
   "outputs": [
    {
     "name": "stdout",
     "output_type": "stream",
     "text": [
      "Gato: cor_pelo=Branco, nro_patas=4\n",
      "Ornitorrinco: cor_pelo=Azul, cor_bico=laranja, nro_patas=2\n"
     ]
    }
   ],
   "source": [
    "class Animal:\n",
    "    def __init__(self,nro_patas):\n",
    "        self.nro_patas = nro_patas\n",
    "    def __str__(self):\n",
    "        return f\"{self.__class__.__name__}: {', '.join([f'{chave}={valor}' for chave, valor in self.__dict__.items()])}\"\n",
    "        \n",
    "class Mamifero (Animal):\n",
    "    def __init__(self, cor_pelo,**kw):\n",
    "        self.cor_pelo = cor_pelo\n",
    "        super().__init__(**kw)\n",
    "\n",
    "class Ave(Animal):\n",
    "    def __init__(self,cor_bico,**kw):\n",
    "        self.cor_bico = cor_bico\n",
    "        super().__init__(**kw)\n",
    "\n",
    "class Gato(Mamifero):\n",
    "    pass\n",
    "\n",
    "class Ornitorrinco(Mamifero, Ave):\n",
    "     def __init__(self,cor_bico, cor_pelo, nro_patas):\n",
    "        print()\n",
    "        super().__init__(cor_pelo = cor_pelo, cor_bico = cor_bico, nro_patas= nro_patas)\n",
    "\n",
    "\n",
    "gato = Gato(nro_patas=4, cor_pelo='Branco')\n",
    "print(gato)\n",
    "\n",
    "ornitorrinco = Ornitorrinco(nro_patas=2, cor_pelo='Azul', cor_bico = 'laranja')\n",
    "print(ornitorrinco)\n"
   ]
  }
 ],
 "metadata": {
  "kernelspec": {
   "display_name": "Python 3",
   "language": "python",
   "name": "python3"
  },
  "language_info": {
   "codemirror_mode": {
    "name": "ipython",
    "version": 3
   },
   "file_extension": ".py",
   "mimetype": "text/x-python",
   "name": "python",
   "nbconvert_exporter": "python",
   "pygments_lexer": "ipython3",
   "version": "3.12.0"
  }
 },
 "nbformat": 4,
 "nbformat_minor": 2
}
